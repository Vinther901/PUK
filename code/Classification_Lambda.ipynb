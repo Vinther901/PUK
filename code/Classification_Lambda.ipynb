{
 "cells": [
  {
   "cell_type": "code",
   "execution_count": 106,
   "metadata": {},
   "outputs": [],
   "source": [
    "import uproot\n",
    "import numpy as np\n",
    "import matplotlib.pyplot as plt\n",
    "import pandas as pd\n",
    "import HomeMade as hm\n",
    "import xgboost as xgb\n",
    "from sklearn.metrics import roc_auc_score, roc_curve\n",
    "%matplotlib notebook"
   ]
  },
  {
   "cell_type": "markdown",
   "metadata": {},
   "source": [
    "Loading Data and MC -sets:"
   ]
  },
  {
   "cell_type": "code",
   "execution_count": null,
   "metadata": {},
   "outputs": [],
   "source": [
    "N = 1e8\n",
    "\n",
    "all_features = \"v0_la_mass v0_la_massErr v0_lb_mass v0_lb_massErr pv0_x pv0_y pv0_z a0xy a0 a0z cosTheta v0_chi2 \\\n",
    "v0_x v0_y v0_z v0_rxy v0_rxyErr v0_px v0_py v0_pz v0_pt v0_p \\\n",
    "v0_ptErr \\\n",
    "v0_px1 v0_py1 v0_pz1 v0_pt1 \\\n",
    "v0_p1 v0_px2 v0_py2 v0_pz2 v0_pt2 v0_p2 v0_phi1 v0_theta1 \\\n",
    "v0_qOverP1 v0_phi2 v0_theta2 v0_qOverP2 alpha calpha epsilon1 \\\n",
    "epsilon2 Alpha pL1 pL2 pT thetastar rapidity_ks pseudorapidity\".split(\" \")\n",
    "\n",
    "path = \"data/data15_13TeV.00267358.physics_MinBias.30062015_v0_per_0.root\"\n",
    "file = uproot.open(path)\n",
    "data = file['tree'].pandas.df(all_features, entrystop = N)\n",
    "\n",
    "path = \"data/mc15_13TeV.361203.Pythia8_A2_MSTW2008LO_ND_minbias.30062015_v0_per_0.root\"\n",
    "file = uproot.open(path)\n",
    "mc = file['tree'].pandas.df(all_features + ['trueLa'], entrystop = N)\n",
    "\n",
    "data = data.loc[(data.v0_ks_mass > 400) & (data.v0_ks_mass < 600)]\n",
    "train_test_slice = int(len(data)*0.8)\n",
    "train_data = data[:train_test_slice]\n",
    "test_data = data[train_test_slice:]\n",
    "\n",
    "mc = mc.loc[(mc.v0_ks_mass > 400) & (mc.v0_ks_mass < 600)]\n",
    "train_test_slice = int(len(mc)*0.8)\n",
    "train_mc = mc[:train_test_slice]\n",
    "test_mc = mc[train_test_slice:]"
   ]
  },
  {
   "cell_type": "code",
   "execution_count": 29,
   "metadata": {},
   "outputs": [],
   "source": [
    "N = 1e7\n",
    "list_of_features = \"v0_la_mass v0_rxy v0_chi2 cosTheta\".split(\" \")\n",
    "\n",
    "path = \"data/data15_13TeV.00267358.physics_MinBias.30062015_v0_per_0.root\"\n",
    "file = uproot.open(path)\n",
    "data = file['tree'].pandas.df(list_of_features,entrystop = N)\n",
    "\n",
    "path = \"data/mc15_13TeV.361203.Pythia8_A2_MSTW2008LO_ND_minbias.30062015_v0_per_0.root\"\n",
    "file = uproot.open(path)\n",
    "mc = file['tree'].pandas.df(list_of_features+['trueLa'],entrystop = N)"
   ]
  }
 ],
 "metadata": {
  "hide_input": false,
  "kernelspec": {
   "display_name": "Python 3",
   "language": "python",
   "name": "python3"
  },
  "language_info": {
   "codemirror_mode": {
    "name": "ipython",
    "version": 3
   },
   "file_extension": ".py",
   "mimetype": "text/x-python",
   "name": "python",
   "nbconvert_exporter": "python",
   "pygments_lexer": "ipython3",
   "version": "3.7.4"
  }
 },
 "nbformat": 4,
 "nbformat_minor": 2
}
